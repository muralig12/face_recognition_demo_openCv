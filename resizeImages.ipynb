{
 "cells": [
  {
   "cell_type": "code",
   "execution_count": 1,
   "metadata": {},
   "outputs": [
    {
     "name": "stdout",
     "output_type": "stream",
     "text": [
      "img_path /home/user/python/opencv/face_recognition/TestImages/jagancbn.jpeg\n",
      "desired path is resizedTrainingImages/TestImages/frame0.jpg\n",
      "img_path /home/user/python/opencv/face_recognition/TestImages/kishore.jpeg\n",
      "desired path is resizedTrainingImages/TestImages/frame1.jpg\n",
      "img_path /home/user/python/opencv/face_recognition/TestImages/cbn11.jpeg\n",
      "desired path is resizedTrainingImages/TestImages/frame2.jpg\n",
      "img_path /home/user/python/opencv/face_recognition/TestImages/jagan1.jpeg\n",
      "desired path is resizedTrainingImages/TestImages/frame3.jpg\n",
      "img_path /home/user/python/opencv/face_recognition/TestImages/jagan.jpg\n",
      "desired path is resizedTrainingImages/TestImages/frame4.jpg\n",
      "img_path /home/user/python/opencv/face_recognition/TestImages/cbnmamata.jpeg\n",
      "desired path is resizedTrainingImages/TestImages/frame5.jpg\n",
      "img_path /home/user/python/opencv/face_recognition/TestImages/cbn2.jpg\n",
      "desired path is resizedTrainingImages/TestImages/frame6.jpg\n",
      "img_path /home/user/python/opencv/face_recognition/TestImages/cbn1.jpeg\n",
      "desired path is resizedTrainingImages/TestImages/frame7.jpg\n",
      "img_path /home/user/python/opencv/face_recognition/TestImages/jagan3.jpg\n",
      "desired path is resizedTrainingImages/TestImages/frame8.jpg\n",
      "img_path /home/user/python/opencv/face_recognition/TestImages/cbn5.jpeg\n",
      "desired path is resizedTrainingImages/TestImages/frame9.jpg\n",
      "img_path /home/user/python/opencv/face_recognition/TestImages/modi1.jpg\n",
      "desired path is resizedTrainingImages/TestImages/frame10.jpg\n",
      "img_path /home/user/python/opencv/face_recognition/TestImages/modi.jpg\n",
      "desired path is resizedTrainingImages/TestImages/frame11.jpg\n",
      "img_path /home/user/python/opencv/face_recognition/TestImages/modi5.jpg\n",
      "desired path is resizedTrainingImages/TestImages/frame12.jpg\n",
      "img_path /home/user/python/opencv/face_recognition/TestImages/modi2.jpeg\n",
      "desired path is resizedTrainingImages/TestImages/frame13.jpg\n",
      "img_path /home/user/python/opencv/face_recognition/TestImages/jagan2.jpeg\n",
      "desired path is resizedTrainingImages/TestImages/frame14.jpg\n",
      "img_path /home/user/python/opencv/face_recognition/TestImages/cbn.jpeg\n",
      "desired path is resizedTrainingImages/TestImages/frame15.jpg\n"
     ]
    }
   ],
   "source": [
    "\n",
    "import cv2\n",
    "import os\n",
    "import numpy as np\n",
    "\n",
    "#This module resizes image from a given directory to 100*100 pixels and writes all images to given directory\n",
    "count=0\n",
    "\n",
    "for path, subdirnames, filenames in os.walk(\"/home/user/python/opencv/face_recognition/TestImages\"):\n",
    "\n",
    "    for filename in filenames:\n",
    "      if filename.startswith(\".\"):\n",
    "        print(\"Skipping File:\",filename)#Skipping files that startwith .\n",
    "        continue\n",
    "      img_path=os.path.join(path, filename)#fetching image path\n",
    "      print(\"img_path\",img_path)\n",
    "      id=os.path.basename(path)#fetching subdirectory names\n",
    "      img = cv2.imread(img_path)\n",
    "      if img is None:\n",
    "        print(\"Image not loaded properly\")\n",
    "        continue\n",
    "      resized_image = cv2.resize(img, (100, 100))\n",
    "      new_path=\"resizedTrainingImages\"+\"/\"+str(id)\n",
    "      print(\"desired path is\",os.path.join(new_path, \"frame%d.jpg\" % count))#write all images to resizedTrainingImages/id directory\n",
    "      #cv2.imwrite(os.path.join(new_path, \"frame%d.jpg\" % count),resized_image)\n",
    "      count += 1"
   ]
  },
  {
   "cell_type": "code",
   "execution_count": null,
   "metadata": {},
   "outputs": [],
   "source": []
  },
  {
   "cell_type": "code",
   "execution_count": 6,
   "metadata": {},
   "outputs": [],
   "source": []
  },
  {
   "cell_type": "code",
   "execution_count": null,
   "metadata": {},
   "outputs": [],
   "source": []
  }
 ],
 "metadata": {
  "kernelspec": {
   "display_name": "Python 3",
   "language": "python",
   "name": "python3"
  },
  "language_info": {
   "codemirror_mode": {
    "name": "ipython",
    "version": 3
   },
   "file_extension": ".py",
   "mimetype": "text/x-python",
   "name": "python",
   "nbconvert_exporter": "python",
   "pygments_lexer": "ipython3",
   "version": "3.7.3"
  }
 },
 "nbformat": 4,
 "nbformat_minor": 2
}
