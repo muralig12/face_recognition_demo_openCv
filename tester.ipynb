{
 "cells": [
  {
   "cell_type": "code",
   "execution_count": 25,
   "metadata": {},
   "outputs": [
    {
     "name": "stdout",
     "output_type": "stream",
     "text": [
      "faces_detected: ()\n"
     ]
    },
    {
     "data": {
      "text/plain": [
       "True"
      ]
     },
     "execution_count": 25,
     "metadata": {},
     "output_type": "execute_result"
    }
   ],
   "source": [
    "import cv2\n",
    "import os\n",
    "import numpy as np\n",
    "\n",
    "import faceRecognition as fr\n",
    "\n",
    "\n",
    "#This module takes images  stored in diskand performs face recognition\n",
    "test_img=cv2.imread('TestImages/cbn11.jpg')#test_img path\n",
    "faces_detected,gray_img=fr.faceDetection(test_img)\n",
    "print(\"faces_detected:\",faces_detected)\n",
    "\n",
    "\"\"\"\n",
    "#Comment belows lines when running this program second time.Since it saves training.yml file in directory\n",
    "faces,faceID=fr.labels_for_training_data('trainingImages')\n",
    "face_recognizer=fr.train_classifier(faces,faceID)\n",
    "face_recognizer.write('trainingData.yml')\n",
    "\"\"\"\n",
    "#Uncomment below line for subsequent runs\n",
    "face_recognizer=cv2.face.LBPHFaceRecognizer_create()\n",
    "face_recognizer.read('trainingData.yml')#use this to load training data for subsequent runs\n",
    "\n",
    "name={0:\"CBN\",1:\"JAGAN\",2:\"MODI\"}#creating dictionary containing names for each label\n",
    "\n",
    "for face in faces_detected:\n",
    "    (x,y,w,h)=face\n",
    "    roi_gray=gray_img[y:y+h,x:x+h]\n",
    "    label,confidence=face_recognizer.predict(roi_gray)#predicting the label of given image\n",
    "    print(\"confidence:\",confidence)\n",
    "    print(\"label:\",label)\n",
    "    fr.draw_rect(test_img,face)\n",
    "    predicted_name=name[label]\n",
    "    if(confidence>128):#If confidence more than 37 then don't print predicted face text on screen\n",
    "        continue\n",
    "    fr.put_text(test_img,predicted_name,x,y)\n",
    "\n",
    "resized_img=cv2.resize(test_img,(1000,1000))\n",
    "cv2.imwrite(\"/home/user/python/opencv\"+\"predicted11.jpg\",resized_img)\n",
    "\n",
    "#cv2.imshow(\"face dtecetion tutorial\",resized_img)\n",
    "#cv2.waitKey(0)#Waits indefinitely until a key is pressed\n",
    "#cv2.destroyAllWindows\n",
    "\n",
    "\n"
   ]
  },
  {
   "cell_type": "code",
   "execution_count": 17,
   "metadata": {},
   "outputs": [],
   "source": []
  },
  {
   "cell_type": "code",
   "execution_count": null,
   "metadata": {},
   "outputs": [],
   "source": []
  }
 ],
 "metadata": {
  "kernelspec": {
   "display_name": "Python 3",
   "language": "python",
   "name": "python3"
  },
  "language_info": {
   "codemirror_mode": {
    "name": "ipython",
    "version": 3
   },
   "file_extension": ".py",
   "mimetype": "text/x-python",
   "name": "python",
   "nbconvert_exporter": "python",
   "pygments_lexer": "ipython3",
   "version": "3.7.3"
  }
 },
 "nbformat": 4,
 "nbformat_minor": 2
}
